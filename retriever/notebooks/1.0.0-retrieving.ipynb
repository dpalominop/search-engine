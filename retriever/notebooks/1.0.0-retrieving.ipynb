{
 "cells": [
  {
   "cell_type": "code",
   "execution_count": 1,
   "metadata": {},
   "outputs": [
    {
     "name": "stderr",
     "output_type": "stream",
     "text": [
      "/home/dpalominop/miniconda3/envs/haystack/lib/python3.8/site-packages/espnet2/gan_tts/vits/vits.py:43: DeprecationWarning: distutils Version classes are deprecated. Use packaging.version instead.\n",
      "  if LooseVersion(torch.__version__) >= LooseVersion(\"1.6.0\"):\n",
      "/home/dpalominop/miniconda3/envs/haystack/lib/python3.8/site-packages/elasticsearch/connection/base.py:190: ElasticsearchDeprecationWarning: Elasticsearch built-in security features are not enabled. Without authentication, your cluster could be accessible to anyone. See https://www.elastic.co/guide/en/elasticsearch/reference/7.17/security-minimal-setup.html to enable security.\n",
      "  warnings.warn(message, category=ElasticsearchDeprecationWarning)\n",
      "/home/dpalominop/miniconda3/envs/haystack/lib/python3.8/site-packages/elasticsearch/connection/http_urllib3.py:275: DeprecationWarning: HTTPResponse.getheaders() is deprecated and will be removed in urllib3 v2.1.0. Instead access HTTPResponse.headers directly.\n",
      "  return response.status, response.getheaders(), raw_data\n"
     ]
    }
   ],
   "source": [
    "import os\n",
    "from haystack.document_stores import ElasticsearchDocumentStore\n",
    "\n",
    "# Get the host where Elasticsearch is running, default to localhost\n",
    "host = os.environ.get(\"ELASTICSEARCH_HOST\", \"localhost\")\n",
    "\n",
    "document_store = ElasticsearchDocumentStore(\n",
    "    host=host,\n",
    "    username=\"\",\n",
    "    password=\"\",\n",
    "    index=\"document\"\n",
    ")"
   ]
  },
  {
   "cell_type": "code",
   "execution_count": 2,
   "metadata": {},
   "outputs": [],
   "source": [
    "from haystack.nodes import BM25Retriever\n",
    "\n",
    "retriever = BM25Retriever(document_store=document_store)"
   ]
  },
  {
   "cell_type": "code",
   "execution_count": 3,
   "metadata": {},
   "outputs": [],
   "source": [
    "from haystack.nodes import FARMReader\n",
    "\n",
    "reader = FARMReader(model_name_or_path=\"deepset/roberta-base-squad2\", use_gpu=True)"
   ]
  },
  {
   "cell_type": "code",
   "execution_count": 4,
   "metadata": {},
   "outputs": [],
   "source": [
    "from haystack import Pipeline\n",
    "\n",
    "querying_pipeline = Pipeline()\n",
    "querying_pipeline.add_node(component=retriever, name=\"Retriever\", inputs=[\"Query\"])\n",
    "querying_pipeline.add_node(component=reader, name=\"Reader\", inputs=[\"Retriever\"])"
   ]
  },
  {
   "cell_type": "code",
   "execution_count": 5,
   "metadata": {},
   "outputs": [
    {
     "data": {
      "application/vnd.jupyter.widget-view+json": {
       "model_id": "43e0e1b8e1eb4e46936bbb598dac95bd",
       "version_major": 2,
       "version_minor": 0
      },
      "text/plain": [
       "Inferencing Samples:   0%|          | 0/1 [00:00<?, ? Batches/s]"
      ]
     },
     "metadata": {},
     "output_type": "display_data"
    }
   ],
   "source": [
    "prediction = querying_pipeline.run(\n",
    "    query=\"Who is the father of Arya Stark?\",\n",
    "    params={\n",
    "        \"Retriever\": {\"top_k\": 10},\n",
    "        \"Reader\": {\"top_k\": 5}\n",
    "    }\n",
    ")"
   ]
  },
  {
   "cell_type": "code",
   "execution_count": 6,
   "metadata": {},
   "outputs": [
    {
     "name": "stdout",
     "output_type": "stream",
     "text": [
      "{'answers': [<Answer {'answer': 'Eddard', 'type': 'extractive', 'score': 0.993372917175293, 'context': \"s Nymeria after a legendary warrior queen. She travels with her father, Eddard, to King's Landing when he is made Hand of the King. Before she leaves,\", 'offsets_in_document': [{'start': 207, 'end': 213}], 'offsets_in_context': [{'start': 72, 'end': 78}], 'document_id': '9e3c863097d66aeed9992e0b6bf1f2f4', 'meta': {'_split_id': 4}}>,\n",
      "             <Answer {'answer': 'Ned', 'type': 'extractive', 'score': 0.9753614664077759, 'context': \"k in the television series.\\n\\n====Season 1====\\nArya accompanies her father Ned and her sister Sansa to King's Landing. Before their departure, Arya's h\", 'offsets_in_document': [{'start': 630, 'end': 633}], 'offsets_in_context': [{'start': 74, 'end': 77}], 'document_id': '7d3360fa29130e69ea6b2ba5c5a8f9c8', 'meta': {'_split_id': 13}}>,\n",
      "             <Answer {'answer': 'Lord Eddard Stark', 'type': 'extractive', 'score': 0.9566048383712769, 'context': 'rk daughters.\\n\\nDuring the Tourney of the Hand to honour her father Lord Eddard Stark, Sansa Stark is enchanted by the knights performing in the event.', 'offsets_in_document': [{'start': 804, 'end': 821}], 'offsets_in_context': [{'start': 67, 'end': 84}], 'document_id': 'a80ae4f1d1187bde6a34a29aeeb0837d', 'meta': {'_split_id': 3}}>,\n",
      "             <Answer {'answer': 'Joffrey', 'type': 'extractive', 'score': 0.6413305997848511, 'context': \"Mycah, sparring in the woods with broomsticks.  Arya defends Mycah from Joffrey's torments and her direwolf Nymeria helps Arya fight off Joffrey, woun\", 'offsets_in_document': [{'start': 634, 'end': 641}], 'offsets_in_context': [{'start': 72, 'end': 79}], 'document_id': '9e3c863097d66aeed9992e0b6bf1f2f4', 'meta': {'_split_id': 4}}>,\n",
      "             <Answer {'answer': 'King Robert', 'type': 'extractive', 'score': 0.5891157984733582, 'context': \"en refuses to yield Gendry, who is actually a bastard son of the late King Robert, to the Lannisters.  The Night's Watch convoy is overrun and massacr\", 'offsets_in_document': [{'start': 820, 'end': 831}], 'offsets_in_context': [{'start': 70, 'end': 81}], 'document_id': '87e8469dcf7354fd2a25fbd2ba07c543', 'meta': {'_split_id': 5}}>],\n",
      " 'documents': [<Document: {'content': '== Storylines ==\\n=== Novels ===\\n==== \\'\\'A Game of Thrones\\'\\' ====\\nCoat of arms of House Stark\\n\\nArya adopts a direwolf cub, which she names Nymeria after a legendary warrior queen. She travels with her father, Eddard, to King\\'s Landing when he is made Hand of the King. Before she leaves, her half-brother Jon Snow has a smallsword made for her as a parting gift, which she names \"Needle\" after her least favorite ladylike activity.\\n\\nWhile taking a walk together, Prince Joffrey and her sister Sansa happen upon Arya and her friend, the low-born butcher apprentice Mycah, sparring in the woods with broomsticks.  Arya defends Mycah from Joffrey\\'s torments and her direwolf Nymeria helps Arya fight off Joffrey, wounding his arm in the process.  Knowing that Nymeria will likely be killed in retribution, Arya chases her wolf away; but Sansa\\'s direwolf Lady is killed in Nymeria\\'s stead and Mycah is hunted down and killed by Sandor Clegane, Joffrey\\'s bodyguard.\\n\\nIn King\\'s Landing, her father discovers Arya\\'s possession of Needle, but instead of confiscating it he arranges for fencing lessons under the Braavosi swordmaster Syrio Forel, who teaches her the style of fighting known as \"water dancing\".  ', 'content_type': 'text', 'score': 0.7704362466129837, 'meta': {'_split_id': 4}, 'embedding': None, 'id': '9e3c863097d66aeed9992e0b6bf1f2f4'}>,\n",
      "               <Document: {'content': \"She was also the future bride of Prince Joffrey, and thus the future Queen of the Seven Kingdoms as well. She names her direwolf Lady; she is the smallest of the pack and the first to die, sentenced to death by Cersei after Arya's direwolf, Nymeria, bit a violent Joffrey.\\n\\n===Arya Stark===\\nMaisie Williams\\n\\n'''Arya Stark''' portrayed by Maisie Williams. Arya Stark of House Stark is the younger daughter and third child of Lord Eddard and Catelyn Stark of Winterfell. Ever the tomboy, Arya would rather be training to use weapons than sewing with a needle. She names her direwolf Nymeria, after a legendary warrior queen.\\n\\n===Robb Stark===\\nRichard Madden\\n\\n'''Robb Stark''' (seasons 1–3) portrayed by Richard Madden. Robb Stark of House Stark is the eldest son of Eddard and Catelyn Stark and the heir to Winterfell. His dire wolf is called Grey Wind. Robb becomes involved in the war against the Lannisters after his father, Ned Stark, is arrested for treason. Robb summons his bannermen for war against House Lannister and marches to the Riverlands. Eventually, crossing the river at the Twins becomes strategically necessary. \", 'content_type': 'text', 'score': 0.7546914390243439, 'meta': {'_split_id': 22}, 'embedding': None, 'id': '726b0655306246943c29202b25bd4733'}>,\n",
      "               <Document: {'content': 'When Rafford begs for a healer, Arya cuts his throat in the same fashion as he had killed Lommy and throws his corpse into a canal.  She heads back to perform the play, knowing this murder will most likely ruin her Mercedene identity.\\n\\n=== Family tree of House Stark ===\\n\\n=== Television series ===\\n\\nArya Stark is portrayed by English actress Maisie Williams in the television adaption of the book series, this being Williams\\' first role as an actress. Williams was chosen from among 300 actresses across England.\\nMaisie Williams plays the role of Arya Stark in the television series.\\n\\n====Season 1====\\nArya accompanies her father Ned and her sister Sansa to King\\'s Landing. Before their departure, Arya\\'s half-brother Jon Snow gifts Arya a sword which she dubs \"Needle\". On the Kingsroad, Arya is sparring with a butcher\\'s boy, Mycah, when Sansa\\'s betrothed Prince Joffrey Baratheon attacks Mycah, prompting Arya\\'s direwolf Nymeria to bite Joffrey. Arya shoos Nymeria away so she is not killed, but is furious when Sansa later refuses to support her version of events. Mycah is later killed by Joffrey\\'s bodyguard Sandor \"The Hound\" Clegane, earning him Arya\\'s hatred. ', 'content_type': 'text', 'score': 0.7500086176507083, 'meta': {'_split_id': 13}, 'embedding': None, 'id': '7d3360fa29130e69ea6b2ba5c5a8f9c8'}>,\n",
      "               <Document: {'content': '* \\'\\'\\'Lothar Frey\\'\\'\\' (seasons 3, 6) portrayed by Tom Brooke in season 3, and by Daniel Tuite in season 6. One of Lord Walder Frey\\'s many sons, nicknamed “Lame Lothar” because of his twisted leg. He and his half-brother Black Walder are sent by their father to Riverrun to propose a marriage between Lord Edmure Tully and Roslin Frey as terms for House Frey rejoining Robb Stark\\'s campaign against the Lannisters. He is one of the first to commence the \"Red Wedding\", stabbing Talisa Stark in the womb several times and killing her and her unborn child. In the sixth season, he is ordered by Walder to retake Riverrun from Brynden Tully. Though they succeed with Lannister help, he is killed by Arya Stark, who subsequently bakes him into a pie.\\n* \\'\\'\\'Black Walder Rivers\\'\\'\\' (seasons 3, 6) portrayed by Tim Plester. One of Lord Walder Frey\\'s many bastard sons, nicknamed “Black Walder” for his dark demeanor. He and his half-brother Lame Lothar are sent by their father to Riverrun to propose a marriage between Lord Edmure Tully and Roslin Frey as terms for House Frey rejoining Robb Stark\\'s campaign against the Lannister. ', 'content_type': 'text', 'score': 0.7490701087710523, 'meta': {'_split_id': 76}, 'embedding': None, 'id': 'ef7ad089df4cc85d00e671a3f32153a4'}>,\n",
      "               <Document: {'content': 'She is the most beautiful woman in Westeros at the time of the events of \"A Song of Ice and Fire\".\\n\\n==Storylines==\\nCoat of arms of House Stark\\n\\n===\\'\\'A Game of Thrones\\'\\'===\\n\\nSansa Stark begins the novel by being betrothed to Crown Prince Joffrey Baratheon, believing Joffrey to be a gallant prince. While Joffrey and Sansa are walking through the woods, Joffrey notices Arya sparring with the butcher\\'s boy, Mycah. A fight breaks out and Joffrey is attacked by Nymeria (Arya\\'s direwolf) after Joffrey threatens to hurt Arya. Sansa lies to King Robert about the circumstances of the fight in order to protect both Joffrey and her sister Arya.  Since Arya ran off with her wolf to save it, Sansa\\'s wolf is killed instead, estranging the Stark daughters.\\n\\nDuring the Tourney of the Hand to honour her father Lord Eddard Stark, Sansa Stark is enchanted by the knights performing in the event.  At the request of his mother, Queen Cersei Lannister, Joffrey spends a portion of the tourney with Sansa, but near the end he commands his guard Sandor Clegane, better known as The Hound, to take her back to her quarters. ', 'content_type': 'text', 'score': 0.747795376747864, 'meta': {'_split_id': 3}, 'embedding': None, 'id': 'a80ae4f1d1187bde6a34a29aeeb0837d'}>,\n",
      "               <Document: {'content': 'In King\\'s Landing, her father discovers Arya\\'s possession of Needle, but instead of confiscating it he arranges for fencing lessons under the Braavosi swordmaster Syrio Forel, who teaches her the style of fighting known as \"water dancing\".  After her father\\'s arrest, Syrio is killed protecting her and Arya narrowly escapes capture.  She later witnesses the public execution of her father before falling under the protection of the Night\\'s Watch recruiter Yoren.\\n\\n==== \\'\\'A Clash of Kings\\'\\' ====\\nArya escapes King\\'s Landing with Yoren and his party of recruits; and on the road, she clashes with the other Night\\'s Watch child recruits Lommy, Gendry, and Hot Pie but eventually befriends them. On the way, the party is attacked by Amory Lorch when Yoren refuses to yield Gendry, who is actually a bastard son of the late King Robert, to the Lannisters.  The Night\\'s Watch convoy is overrun and massacred, but Arya and the other children escape through a tunnel.  Before escaping, she rescues three prisoners locked in a wagon cage, among them a mysterious man named Jaqen H\\'ghar.\\n\\nArya and her friends are later captured by Ser Gregor Clegane and taken to Harrenhal as slave laborers.  ', 'content_type': 'text', 'score': 0.7444999871639132, 'meta': {'_split_id': 5}, 'embedding': None, 'id': '87e8469dcf7354fd2a25fbd2ba07c543'}>,\n",
      "               <Document: {'content': 'Tyrion is consigned to the Eyrie\\'s \"sky cells\" while Lysa prepares to pass judgment on him as an accomplice in her husband\\'s murder.\\n\\n===In the North===\\nAt Winterfell, Theon Greyjoy grows jealous of Tyrion after his favorite prostitute Ros taunts him. To take Bran\\'s mind off his paralysis and his mother\\'s departure, Maester Luwin teaches him the Dothraki art of horseback archery.\\n\\n===In King\\'s Landing===\\nAfter Ned Stark convinces King Robert not to join the tourney, the crowd watches the fearsome Ser Gregor \"The Mountain\" Clegane joust with Ser Loras Tyrell, the \"Knight of Flowers\", who wins by riding a mare in heat, distracting Clegane\\'s stallion. Clegane beheads his horse and attempts to kill Loras, but Sandor \"The Hound\" Clegane intervenes.\\n\\nVarys reveals to Ned that Jon Arryn was killed by a poison called the \"Tears of Lys\", and suggests that Arryn\\'s slain squire Ser Hugh of the Vale was the poisoner.\\n\\nIn training, Arya chases a cat through the Red Keep and overhears a conversation between Varys and Illyrio, who appear to be plotting against the throne. Arya tries to warn her father but is unable to identify the plotters. ', 'content_type': 'text', 'score': 0.7395939402102747, 'meta': {'_split_id': 2}, 'embedding': None, 'id': '1d850d17893da5959cd677e4d82c144'}>,\n",
      "               <Document: {'content': '\"Asha\" is portrayed as a fairly provocative and independent woman, a captain of thirty ships, as opposed to her television counterpart Yara, who did not retain \"Asha\\'s\" traits, although her rivalry with Theon remained intact. Their father Balon Greyjoy was played by Patrick Malahide. Many of the characters involved in the Greyjoys\\' storyline weren\\'t introduced, most notably Balon\\'s brother Aeron Greyjoy. Nonetheless, the storyline received enormous praise, with the alteration of Yara\\'s name and persona being the only criticism.\\n\\nTom Wlaschiha is cast as Jaqen H\\'ghar, a mysterious prisoner who develops a murderous relationship with young Arya Stark (Maisie Williams). Wlaschiha\\'s pronunciation of his character\\'s name, \\'\\'Jack-in\\'\\', was adopted for use in the show. Natalie Dormer, best known for her portrayal as seductive Anne Boleyn in Showtime\\'s \\'\\'The Tudors\\'\\', was cast in a similar role as Margaery Tyrell, a noblewoman and the wife of the third claimant to the throne, Renly Baratheon. Gwendoline Christie played, to much praise, Brienne of Tarth, a female warrior who joins Renly Baratheon\\'s guard, but later becomes a follower of Catelyn Stark. To prepare for the role, Christie took up an intense training regimen, adding over a stone (6.4\\xa0kg) of muscle mass. ', 'content_type': 'text', 'score': 0.7393246025870243, 'meta': {'_split_id': 9}, 'embedding': None, 'id': '937a3c260025a30112a7a29da8d1d242'}>,\n",
      "               <Document: {'content': \"===On the Iron Islands===\\nReturning to his homeland, Theon Greyjoy tries to seduce a young woman, Yara. At Pyke, Theon presents his father Balon with Robb's offer that will make Balon King of the Iron Islands. Balon refuses, wishing to take his crown with Yara, revealed to be Theon's sister, at the helm of his fleet. Theon realises Balon's intention is to take the North for himself.\\n\\n===In the Red Waste===\\nRakharo's horse returns to Daenerys Targaryen's camp carrying his severed head, which Ser Jorah Mormont explains is a message from another khal, and Daenerys vows revenge.\\n\\n===On the Kingsroad===\\nCity Watchmen search the caravan for Gendry but are turned away by Yoren. Gendry tells Arya Stark that he knows she is a girl, and she reveals she is actually Arya Stark after learning that her father met Gendry before he was executed.\\n\\n===At Craster's Keep===\\nSamwell Tarly asks Jon Snow about taking Gilly, one of Craster's daughter-wives, with them but Jon refuses. Gilly is pregnant, and Jon wonders what happens to Craster's sons. That night, Jon follows Craster taking a newborn child into the woods, and sees a White Walker retrieve the baby, but Craster knocks Jon unconscious.\\n\\n\", 'content_type': 'text', 'score': 0.7389238994319847, 'meta': {'_split_id': 2}, 'embedding': None, 'id': '8a495456ded3ab7e15cd66c6d3ca82ad'}>,\n",
      "               <Document: {'content': \"Decades before the events of ''A Game of Thrones'', he was sent to the Citadel in Oldtown on the orders of his grandfather Daeron II, who felt there were too many Targaryens, and became a Maester (one of an order of scholars and healers). He was later offered the throne of the Seven Kingdoms after the death of his father Maekar, but ceded the rule to Aegon and joined the Night's Watch. By ''A Game of Thrones'', he is elderly and blind, but provides guidance to the men of the Watch. In ''A Feast for Crows'', Jon Snow sends him to the Citadel by sea, but Maester Aemon dies on the voyage between Braavos and Oldtown.\\n\\nIn the HBO television adaptation, he is portrayed by Peter Vaughan.\\n\\n=== Yoren ===\\nYoren is a recruiter of the Night's Watch. In ''A Game of Thrones'' Yoren travels with Tyrion Lannister from the Wall to King's Landing, and is present when Tyrion is arrested by Catelyn Stark. He then races to King's Landing to inform Eddard Stark. During Lord Eddard's execution, he finds Arya Stark and shields her from seeing her father's death. \", 'content_type': 'text', 'score': 0.7352529260894819, 'meta': {'_split_id': 91}, 'embedding': None, 'id': '1a134f1ce82ea118cb873dfd9ba090e2'}>],\n",
      " 'no_ans_gap': 11.405384063720703,\n",
      " 'node_id': 'Reader',\n",
      " 'params': {'Reader': {'top_k': 5}, 'Retriever': {'top_k': 10}},\n",
      " 'query': 'Who is the father of Arya Stark?',\n",
      " 'root_node': 'Query'}\n"
     ]
    }
   ],
   "source": [
    "from pprint import pprint\n",
    "\n",
    "pprint(prediction)"
   ]
  },
  {
   "cell_type": "code",
   "execution_count": 7,
   "metadata": {},
   "outputs": [
    {
     "name": "stdout",
     "output_type": "stream",
     "text": [
      "\n",
      "Query: Who is the father of Arya Stark?\n",
      "Answers:\n",
      "[   {   'answer': 'Eddard',\n",
      "        'context': 's Nymeria after a legendary warrior queen. She travels '\n",
      "                   \"with her father, Eddard, to King's Landing when he is made \"\n",
      "                   'Hand of the King. Before she leaves,'},\n",
      "    {   'answer': 'Ned',\n",
      "        'context': 'k in the television series.\\n'\n",
      "                   '\\n'\n",
      "                   '====Season 1====\\n'\n",
      "                   'Arya accompanies her father Ned and her sister Sansa to '\n",
      "                   \"King's Landing. Before their departure, Arya's h\"},\n",
      "    {   'answer': 'Lord Eddard Stark',\n",
      "        'context': 'rk daughters.\\n'\n",
      "                   '\\n'\n",
      "                   'During the Tourney of the Hand to honour her father Lord '\n",
      "                   'Eddard Stark, Sansa Stark is enchanted by the knights '\n",
      "                   'performing in the event.'},\n",
      "    {   'answer': 'Joffrey',\n",
      "        'context': 'Mycah, sparring in the woods with broomsticks.  Arya '\n",
      "                   \"defends Mycah from Joffrey's torments and her direwolf \"\n",
      "                   'Nymeria helps Arya fight off Joffrey, woun'},\n",
      "    {   'answer': 'King Robert',\n",
      "        'context': 'en refuses to yield Gendry, who is actually a bastard son '\n",
      "                   \"of the late King Robert, to the Lannisters.  The Night's \"\n",
      "                   'Watch convoy is overrun and massacr'}]\n"
     ]
    }
   ],
   "source": [
    "from haystack.utils import print_answers\n",
    "\n",
    "print_answers(\n",
    "    prediction,\n",
    "    details=\"minimum\" ## Choose from `minimum`, `medium` and `all`\n",
    ")"
   ]
  }
 ],
 "metadata": {
  "kernelspec": {
   "display_name": "haystack",
   "language": "python",
   "name": "python3"
  },
  "language_info": {
   "codemirror_mode": {
    "name": "ipython",
    "version": 3
   },
   "file_extension": ".py",
   "mimetype": "text/x-python",
   "name": "python",
   "nbconvert_exporter": "python",
   "pygments_lexer": "ipython3",
   "version": "3.8.16"
  },
  "orig_nbformat": 4,
  "vscode": {
   "interpreter": {
    "hash": "30b59cae7a844251f7e36e84023b83b4380027fe8fb70321965517ad725871b0"
   }
  }
 },
 "nbformat": 4,
 "nbformat_minor": 2
}
